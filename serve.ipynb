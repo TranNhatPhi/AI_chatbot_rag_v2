{
 "cells": [
  {
   "cell_type": "code",
   "execution_count": null,
   "id": "initial_id",
   "metadata": {
    "collapsed": true
   },
   "outputs": [],
   "source": [
    "from flask import Flask, request, jsonify\n",
    "from flask_cors import CORS\n",
    "import asyncio\n",
    "import os\n",
    "import time\n",
    "import pickle\n",
    "import faiss\n",
    "import numpy as np\n",
    "from dotenv import load_dotenv\n",
    "from sentence_transformers import SentenceTransformer\n",
    "import webbrowser\n",
    "from contextlib import contextmanager\n",
    "from agents import Agent, Runner, handoff, function_tool\n",
    "from agents.handoffs import HandoffInputData\n",
    "from prompt import (\n",
    "    MANAGER_INSTRUCTION,\n",
    "    PRODUCT_INSTRUCTION,\n",
    "    SHOP_INFORMATION_INSTRUCTION\n",
    ")\n",
    "from rag import product_rag, get_shop_information\n",
    "\n",
    "# === Bypass OpenAI trace\n",
    "@contextmanager\n",
    "def trace(*args, **kwargs):\n",
    "    yield\n",
    "\n",
    "# === FAISS config\n",
    "INDEX_PATH = \"faiss_mobile_shop.index\"\n",
    "META_PATH = \"faiss_mobile_shop_metadata.pkl\"\n",
    "DIM = 384\n",
    "\n",
    "load_dotenv()\n",
    "model = SentenceTransformer(\"all-MiniLM-L6-v2\")\n",
    "\n",
    "# === FAISS setup\n",
    "if os.path.exists(INDEX_PATH):\n",
    "    index = faiss.read_index(INDEX_PATH)\n",
    "    with open(META_PATH, \"rb\") as f:\n",
    "        metadatas = pickle.load(f)\n",
    "else:\n",
    "    index = faiss.IndexFlatIP(DIM)\n",
    "    metadatas = []\n",
    "\n",
    "if index.d != DIM:\n",
    "    print(f\"⚠️ FAISS index dimension {index.d}, model {DIM}. Reset!\")\n",
    "    index = faiss.IndexFlatIP(DIM)\n",
    "    metadatas = []\n",
    "\n",
    "if index.ntotal == 0:\n",
    "    print(\"⚠"
   ]
  }
 ],
 "metadata": {
  "kernelspec": {
   "display_name": "Python 3",
   "language": "python",
   "name": "python3"
  },
  "language_info": {
   "codemirror_mode": {
    "name": "ipython",
    "version": 2
   },
   "file_extension": ".py",
   "mimetype": "text/x-python",
   "name": "python",
   "nbconvert_exporter": "python",
   "pygments_lexer": "ipython2",
   "version": "2.7.6"
  }
 },
 "nbformat": 4,
 "nbformat_minor": 5
}
